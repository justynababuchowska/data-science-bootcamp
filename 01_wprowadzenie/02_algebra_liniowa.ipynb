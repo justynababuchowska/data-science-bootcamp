{
  "nbformat": 4,
  "nbformat_minor": 0,
  "metadata": {
    "colab": {
      "provenance": [],
      "authorship_tag": "ABX9TyNYX5qnf24NvremcsHnc7gc",
      "include_colab_link": true
    },
    "kernelspec": {
      "name": "python3",
      "display_name": "Python 3"
    },
    "language_info": {
      "name": "python"
    }
  },
  "cells": [
    {
      "cell_type": "markdown",
      "metadata": {
        "id": "view-in-github",
        "colab_type": "text"
      },
      "source": [
        "<a href=\"https://colab.research.google.com/github/justynababuchowska/data-science-bootcamp/blob/main/01_wprowadzenie/02_algebra_liniowa.ipynb\" target=\"_parent\"><img src=\"https://colab.research.google.com/assets/colab-badge.svg\" alt=\"Open In Colab\"/></a>"
      ]
    },
    {
      "cell_type": "code",
      "execution_count": 2,
      "metadata": {
        "colab": {
          "base_uri": "https://localhost:8080/"
        },
        "id": "_9DIRPlINR_b",
        "outputId": "f625a62a-b826-4cf5-8f27-1eece3d9b812"
      },
      "outputs": [
        {
          "output_type": "stream",
          "name": "stdout",
          "text": [
            "Requirement already satisfied: numpy in /usr/local/lib/python3.10/dist-packages (1.25.2)\n"
          ]
        }
      ],
      "source": [
        "pip install numpy"
      ]
    },
    {
      "cell_type": "code",
      "source": [
        "import numpy as np"
      ],
      "metadata": {
        "id": "lPTyr-FQTi7L"
      },
      "execution_count": 3,
      "outputs": []
    },
    {
      "cell_type": "markdown",
      "source": [
        "Norma wektora, Długość wektora w R2"
      ],
      "metadata": {
        "id": "Cz-4Rf9NTrAd"
      }
    },
    {
      "cell_type": "code",
      "source": [
        "v1= np.array([-1, 4])\n",
        "v1"
      ],
      "metadata": {
        "colab": {
          "base_uri": "https://localhost:8080/"
        },
        "id": "iNbaisDCTwyJ",
        "outputId": "d40428d4-e320-4f19-aee1-302dfc3bba5a"
      },
      "execution_count": 6,
      "outputs": [
        {
          "output_type": "execute_result",
          "data": {
            "text/plain": [
              "array([-1,  4])"
            ]
          },
          "metadata": {},
          "execution_count": 6
        }
      ]
    },
    {
      "cell_type": "code",
      "source": [
        "#oblicza długość wektora w przestrzeni 2wymiarowej\n",
        "np.linalg.norm(v1)"
      ],
      "metadata": {
        "colab": {
          "base_uri": "https://localhost:8080/"
        },
        "id": "5hdT35djU516",
        "outputId": "2ea1c428-e9d6-4878-fbfa-f65402dab2d7"
      },
      "execution_count": 7,
      "outputs": [
        {
          "output_type": "execute_result",
          "data": {
            "text/plain": [
              "4.123105625617661"
            ]
          },
          "metadata": {},
          "execution_count": 7
        }
      ]
    },
    {
      "cell_type": "markdown",
      "source": [
        "Norma Euklidesowa w Rn"
      ],
      "metadata": {
        "id": "rDzsPWtqWmft"
      }
    },
    {
      "cell_type": "code",
      "source": [
        "#przykładowo długość wejtora w przestrzeni R3\n",
        "v2 = np.array([-10, 10, 13])\n",
        "np.linalg.norm(v2)"
      ],
      "metadata": {
        "colab": {
          "base_uri": "https://localhost:8080/"
        },
        "id": "BvB2BuwPWp4g",
        "outputId": "df13585e-8199-4c52-89c8-054a364c26c4"
      },
      "execution_count": 8,
      "outputs": [
        {
          "output_type": "execute_result",
          "data": {
            "text/plain": [
              "19.209372712298546"
            ]
          },
          "metadata": {},
          "execution_count": 8
        }
      ]
    },
    {
      "cell_type": "code",
      "source": [
        "#odległośc 2 punktów w przestrzeni R2 - odejmujemy 2 wektory od siebie, a następnie standardowo liczymy długość\n",
        "p= np.array([3,0])\n",
        "q= np.array([0,4])\n",
        "\n",
        "np.linalg.norm(p-q)"
      ],
      "metadata": {
        "colab": {
          "base_uri": "https://localhost:8080/"
        },
        "id": "rcZWuaVZZQiw",
        "outputId": "05301bba-4f28-4d92-bfbc-2cbf54e66f9f"
      },
      "execution_count": 10,
      "outputs": [
        {
          "output_type": "execute_result",
          "data": {
            "text/plain": [
              "5.0"
            ]
          },
          "metadata": {},
          "execution_count": 10
        }
      ]
    },
    {
      "cell_type": "code",
      "source": [
        "#odległość dwóch punktów w przestrzeni Rn\n",
        "p= np.array([3,0, 1])\n",
        "q= np.array([0,4, 2])\n",
        "\n",
        "np.linalg.norm(p-q)"
      ],
      "metadata": {
        "colab": {
          "base_uri": "https://localhost:8080/"
        },
        "id": "0WBDkHUDYl7m",
        "outputId": "a9c63607-f657-49c9-d307-10e12b316b9b"
      },
      "execution_count": 12,
      "outputs": [
        {
          "output_type": "execute_result",
          "data": {
            "text/plain": [
              "5.0990195135927845"
            ]
          },
          "metadata": {},
          "execution_count": 12
        }
      ]
    },
    {
      "cell_type": "markdown",
      "source": [
        "Mnożenie macierzy - aby pomnożyć macierze liczba kolumn lewej macierzy musi być równa liczbie wierszy w prawej macierzy. Mnożenie macierzy nie jest przemienne!"
      ],
      "metadata": {
        "id": "8M5GdWjEbNmY"
      }
    },
    {
      "cell_type": "code",
      "source": [
        "X = np.array([[5,3],[3,9]])\n",
        "Y= np.array([[1],[-1]])\n",
        "print(X)\n",
        "print(Y)"
      ],
      "metadata": {
        "colab": {
          "base_uri": "https://localhost:8080/"
        },
        "id": "iSiuI2JpbPV6",
        "outputId": "417a7b9f-46a7-4b9f-b21f-e54999ddc3a5"
      },
      "execution_count": 15,
      "outputs": [
        {
          "output_type": "stream",
          "name": "stdout",
          "text": [
            "[[5 3]\n",
            " [3 9]]\n",
            "[[ 1]\n",
            " [-1]]\n"
          ]
        }
      ]
    },
    {
      "cell_type": "code",
      "source": [
        "#obliczamy macierz wynikową (nie można odwrotnie Y*X bo liczba kolumn wówczas nie zgadza się z liczbą wierszy)\n",
        "Z= np.dot(X, Y)\n",
        "Z"
      ],
      "metadata": {
        "colab": {
          "base_uri": "https://localhost:8080/"
        },
        "id": "A54yeUIldsvm",
        "outputId": "eef28ac5-d289-4f2a-ee8e-35488fb9225e"
      },
      "execution_count": 16,
      "outputs": [
        {
          "output_type": "execute_result",
          "data": {
            "text/plain": [
              "array([[ 2],\n",
              "       [-6]])"
            ]
          },
          "metadata": {},
          "execution_count": 16
        }
      ]
    },
    {
      "cell_type": "code",
      "source": [
        "Z = X.dot(Y)\n",
        "Z"
      ],
      "metadata": {
        "colab": {
          "base_uri": "https://localhost:8080/"
        },
        "id": "Z5nUeLIBeNwk",
        "outputId": "4c330c86-f18d-40ca-8383-79c0ff041b2d"
      },
      "execution_count": 18,
      "outputs": [
        {
          "output_type": "execute_result",
          "data": {
            "text/plain": [
              "array([[ 2],\n",
              "       [-6]])"
            ]
          },
          "metadata": {},
          "execution_count": 18
        }
      ]
    },
    {
      "cell_type": "code",
      "source": [
        "Z = X @ Y\n",
        "Z"
      ],
      "metadata": {
        "colab": {
          "base_uri": "https://localhost:8080/"
        },
        "id": "-8H9yMlreQ-8",
        "outputId": "feab8f4e-ff7d-4b76-8403-15c215e9c3e1"
      },
      "execution_count": 19,
      "outputs": [
        {
          "output_type": "execute_result",
          "data": {
            "text/plain": [
              "array([[ 2],\n",
              "       [-6]])"
            ]
          },
          "metadata": {},
          "execution_count": 19
        }
      ]
    },
    {
      "cell_type": "code",
      "source": [
        "#przykład X macierz 2x3, Y macierz 3x3\n",
        "X= np.array([[2, -1, 3],\n",
        "            [3, 1, 0]])\n",
        "Y=np.array([[2,1,-5],\n",
        "            [1,5,7],\n",
        "            [3,-5,0]])\n",
        "\n",
        "Z = np.dot(X,Y)\n",
        "Z"
      ],
      "metadata": {
        "colab": {
          "base_uri": "https://localhost:8080/"
        },
        "id": "tzAq2DpafEyd",
        "outputId": "01cd6e86-3943-4815-ba7f-cb5d8b925496"
      },
      "execution_count": 21,
      "outputs": [
        {
          "output_type": "execute_result",
          "data": {
            "text/plain": [
              "array([[ 12, -18, -17],\n",
              "       [  7,   8,  -8]])"
            ]
          },
          "metadata": {},
          "execution_count": 21
        }
      ]
    },
    {
      "cell_type": "markdown",
      "source": [
        "Wyznacznik macierzy"
      ],
      "metadata": {
        "id": "abph01b3lurf"
      }
    },
    {
      "cell_type": "code",
      "source": [
        "#liczymy wyznacznik macierzy - mnożymy po przekątnej i odejmujemy. Biblioteka np.linalg.det(X)\n",
        "A = [[2,4],[-1,3]]\n",
        "np.linalg.det(A)"
      ],
      "metadata": {
        "colab": {
          "base_uri": "https://localhost:8080/"
        },
        "id": "m4S6dn5nlwhs",
        "outputId": "51c8f61a-10c1-464d-fb01-ede200d529af"
      },
      "execution_count": 23,
      "outputs": [
        {
          "output_type": "execute_result",
          "data": {
            "text/plain": [
              "9.999999999999998"
            ]
          },
          "metadata": {},
          "execution_count": 23
        }
      ]
    },
    {
      "cell_type": "code",
      "source": [
        "#możemy zaokrąglić wynik\n",
        "round(np.linalg.det(A))"
      ],
      "metadata": {
        "colab": {
          "base_uri": "https://localhost:8080/"
        },
        "id": "AamYpF4duNey",
        "outputId": "f4a55ca5-5cce-44bf-d2e5-ae9e3f5ebef9"
      },
      "execution_count": 24,
      "outputs": [
        {
          "output_type": "execute_result",
          "data": {
            "text/plain": [
              "10"
            ]
          },
          "metadata": {},
          "execution_count": 24
        }
      ]
    },
    {
      "cell_type": "markdown",
      "source": [
        "Ślad macierzy - suma cyfr po przekątnej (od lewego górnego rogu)"
      ],
      "metadata": {
        "id": "tL3jY0Hnvyb3"
      }
    },
    {
      "cell_type": "code",
      "source": [
        "A = [[2,4],[-1,3]]\n",
        "np.trace(A)"
      ],
      "metadata": {
        "colab": {
          "base_uri": "https://localhost:8080/"
        },
        "id": "TGBh8iYpuHMy",
        "outputId": "4dd7aa67-d337-4fd2-ca13-e97e06d67bf5"
      },
      "execution_count": 55,
      "outputs": [
        {
          "output_type": "execute_result",
          "data": {
            "text/plain": [
              "5"
            ]
          },
          "metadata": {},
          "execution_count": 55
        }
      ]
    },
    {
      "cell_type": "markdown",
      "source": [
        "Macierz jednostkowa -\n",
        "macierz kwadratowa, w której wszystkie elementy na głównej przekątnej są równe 1, a wszystkie pozostałe elementy są równe 0\n",
        "(mnożenie dowolnej macierzy przez macierz jednostkową nie zmienia wartości tej macierzy)"
      ],
      "metadata": {
        "id": "dPNuwHN3xbm6"
      }
    },
    {
      "cell_type": "code",
      "source": [
        "# tworzymy ją podając tylko 1parametr(kwadrat)\n",
        "np.eye(5, dtype=\"int\")"
      ],
      "metadata": {
        "colab": {
          "base_uri": "https://localhost:8080/"
        },
        "id": "-1C9n5nUyhBT",
        "outputId": "ce75fd55-5850-460b-8b33-ebf91f1365be"
      },
      "execution_count": 28,
      "outputs": [
        {
          "output_type": "execute_result",
          "data": {
            "text/plain": [
              "array([[1, 0, 0, 0, 0],\n",
              "       [0, 1, 0, 0, 0],\n",
              "       [0, 0, 1, 0, 0],\n",
              "       [0, 0, 0, 1, 0],\n",
              "       [0, 0, 0, 0, 1]])"
            ]
          },
          "metadata": {},
          "execution_count": 28
        }
      ]
    },
    {
      "cell_type": "code",
      "source": [
        "#domyslnie float\n",
        "np.eye(3)"
      ],
      "metadata": {
        "colab": {
          "base_uri": "https://localhost:8080/"
        },
        "id": "vfr8PPm-zMCV",
        "outputId": "c7385b22-d26a-4396-ad70-a9d827542028"
      },
      "execution_count": 29,
      "outputs": [
        {
          "output_type": "execute_result",
          "data": {
            "text/plain": [
              "array([[1., 0., 0.],\n",
              "       [0., 1., 0.],\n",
              "       [0., 0., 1.]])"
            ]
          },
          "metadata": {},
          "execution_count": 29
        }
      ]
    },
    {
      "cell_type": "markdown",
      "source": [
        "Macierz odwrotna - to taka, która po pomnożeniu przez oryginalną macierz daje macierz jednostkową i musi być kwadratowa\n",
        "\n",
        "*  AB=BA=I\n",
        "\n"
      ],
      "metadata": {
        "id": "X4-lMZxu4BKx"
      }
    },
    {
      "cell_type": "code",
      "source": [
        "B = np.linalg.inv(A)\n",
        "B"
      ],
      "metadata": {
        "colab": {
          "base_uri": "https://localhost:8080/"
        },
        "id": "wU91-nPU5iah",
        "outputId": "b852bd4a-c86d-4468-a809-bfa560bd76b4"
      },
      "execution_count": 32,
      "outputs": [
        {
          "output_type": "execute_result",
          "data": {
            "text/plain": [
              "array([[ 0.3, -0.4],\n",
              "       [ 0.1,  0.2]])"
            ]
          },
          "metadata": {},
          "execution_count": 32
        }
      ]
    },
    {
      "cell_type": "code",
      "source": [
        "#aby sprawdzić mnożymy macierze i dostajemy macierz jednostkową\n",
        "np.dot(A,B)"
      ],
      "metadata": {
        "colab": {
          "base_uri": "https://localhost:8080/"
        },
        "id": "rtzL1OiT6UgK",
        "outputId": "7f33f140-2b4a-4e52-c5b8-4d2a396642aa"
      },
      "execution_count": 33,
      "outputs": [
        {
          "output_type": "execute_result",
          "data": {
            "text/plain": [
              "array([[1.00000000e+00, 0.00000000e+00],\n",
              "       [2.77555756e-17, 1.00000000e+00]])"
            ]
          },
          "metadata": {},
          "execution_count": 33
        }
      ]
    },
    {
      "cell_type": "code",
      "source": [
        "#aby poprawić czytelność ustawiamy wydruk (miejsca po przecinku, zaokrągla nam małe wartości przy True)\n",
        "np.set_printoptions(precision=4, suppress=True)\n",
        "np.dot(A,B)"
      ],
      "metadata": {
        "colab": {
          "base_uri": "https://localhost:8080/"
        },
        "id": "1mztQe097bVO",
        "outputId": "17cc86c0-f5bb-4b63-dbcd-95c4ba2b7697"
      },
      "execution_count": 39,
      "outputs": [
        {
          "output_type": "execute_result",
          "data": {
            "text/plain": [
              "array([[1., 0.],\n",
              "       [0., 1.]])"
            ]
          },
          "metadata": {},
          "execution_count": 39
        }
      ]
    },
    {
      "cell_type": "code",
      "source": [
        "np.dot(B,A)"
      ],
      "metadata": {
        "colab": {
          "base_uri": "https://localhost:8080/"
        },
        "id": "jA71O9-t8FqA",
        "outputId": "2365f4df-ebc3-430d-9023-ffab13ee0483"
      },
      "execution_count": 40,
      "outputs": [
        {
          "output_type": "execute_result",
          "data": {
            "text/plain": [
              "array([[ 1., -0.],\n",
              "       [ 0.,  1.]])"
            ]
          },
          "metadata": {},
          "execution_count": 40
        }
      ]
    },
    {
      "cell_type": "markdown",
      "source": [
        "Macierz transponowana - zmiana wierszy na kolumny i kolumny na wiersze"
      ],
      "metadata": {
        "id": "IiYMPZhT9BAV"
      }
    },
    {
      "cell_type": "code",
      "source": [
        "np.transpose(A)"
      ],
      "metadata": {
        "colab": {
          "base_uri": "https://localhost:8080/"
        },
        "id": "IYN8Y2Ui9cFk",
        "outputId": "7e7f6af7-fe56-4b0c-8859-3ff1717ecebc"
      },
      "execution_count": 41,
      "outputs": [
        {
          "output_type": "execute_result",
          "data": {
            "text/plain": [
              "array([[ 2, -1],\n",
              "       [ 4,  3]])"
            ]
          },
          "metadata": {},
          "execution_count": 41
        }
      ]
    },
    {
      "cell_type": "code",
      "source": [
        "#inny prostszy zapis\n",
        "A.T"
      ],
      "metadata": {
        "id": "VfmNBluP9i3D"
      },
      "execution_count": null,
      "outputs": []
    },
    {
      "cell_type": "markdown",
      "source": [
        "Układy równań\n",
        "A - macierz współczynników\n",
        "X - wektor niewiadomych\n",
        "B - wektor wyrazów wolnych (wynik)\n",
        "\n",
        "mnożąc macierze AX=B\n",
        "\n",
        "Jeśli macierz A jest kwadratowa to oznaczoność układu jest równa jej odwracalności:\n",
        "\n",
        "AX=B\n",
        "\n",
        "(A-1)AX=(A-1)B\n",
        "\n",
        "X=(A-1)B"
      ],
      "metadata": {
        "id": "IAljo_z99MHu"
      }
    },
    {
      "cell_type": "code",
      "source": [
        "\"\"\"\n",
        "2x+4y=10\n",
        "x-y=-1\n",
        "\"\"\"\n",
        "A = np.array([[2,4],[1,-1]])\n",
        "B = np.array([[10],[-1]])"
      ],
      "metadata": {
        "id": "6-z6cZzl_y3U"
      },
      "execution_count": null,
      "outputs": []
    },
    {
      "cell_type": "code",
      "source": [
        "A_inv = np.linalg.inv(A)\n",
        "X = np.dot(A_inv,B)\n",
        "X"
      ],
      "metadata": {
        "colab": {
          "base_uri": "https://localhost:8080/"
        },
        "id": "rFd9HENsCEhB",
        "outputId": "9a277732-d806-4e81-edc7-ac3bfa278e85"
      },
      "execution_count": 7,
      "outputs": [
        {
          "output_type": "execute_result",
          "data": {
            "text/plain": [
              "array([[1.],\n",
              "       [2.]])"
            ]
          },
          "metadata": {},
          "execution_count": 7
        }
      ]
    },
    {
      "cell_type": "code",
      "source": [],
      "metadata": {
        "id": "Dsmuw-ZIDmRF"
      },
      "execution_count": null,
      "outputs": []
    }
  ]
}