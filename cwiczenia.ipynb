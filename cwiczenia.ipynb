{
  "nbformat": 4,
  "nbformat_minor": 0,
  "metadata": {
    "colab": {
      "provenance": [],
      "mount_file_id": "1TzGuQiL_1x1XGb8Xf-b7VxhSFfqp9Y3Y",
      "authorship_tag": "ABX9TyOIcdx6Pyi1Dnr4Itk70ENn",
      "include_colab_link": true
    },
    "kernelspec": {
      "name": "python3",
      "display_name": "Python 3"
    },
    "language_info": {
      "name": "python"
    }
  },
  "cells": [
    {
      "cell_type": "markdown",
      "metadata": {
        "id": "view-in-github",
        "colab_type": "text"
      },
      "source": [
        "<a href=\"https://colab.research.google.com/github/justynababuchowska/data-science-bootcamp/blob/main/cwiczenia.ipynb\" target=\"_parent\"><img src=\"https://colab.research.google.com/assets/colab-badge.svg\" alt=\"Open In Colab\"/></a>"
      ]
    },
    {
      "cell_type": "code",
      "execution_count": null,
      "metadata": {
        "colab": {
          "base_uri": "https://localhost:8080/"
        },
        "id": "_m9rUP-Oz5cI",
        "outputId": "4c9e7f47-3b9d-453c-8767-5bd52dafec55"
      },
      "outputs": [
        {
          "output_type": "stream",
          "name": "stdout",
          "text": [
            "Podaj wzrost: 1.70\n",
            "Podaj wagę: 50.2\n",
            "Twoje bmi wynosi 0.00\n",
            "masz niedowage\n"
          ]
        }
      ],
      "source": [
        "wzrost = float(input(\"Podaj wzrost: \"))\n",
        "\n",
        "licznik=0\n",
        "while wzrost>3 and licznik<3:\n",
        "    wzrost = float(input(f\"Podaj wzrot w metrach(masz jeszcze: {3-licznik} proby): \"))\n",
        "    licznik+=1\n",
        "\n",
        "waga = float(input(\"Podaj wagę: \"))\n",
        "\n",
        "bmi = wzrost/waga**2\n",
        "\n",
        "print(f\"Twoje bmi wynosi {bmi:.2f}\")\n",
        "\n",
        "if 18.5 <= bmi < 25:\n",
        "    print(\"twoja waga jest ok\")\n",
        "elif bmi<18.5:\n",
        "    print(\"masz niedowage\")\n",
        "elif bmi >25:\n",
        "    print(\"masz nadwage\")\n",
        "else:\n",
        "    print(\"masz otylosc\")"
      ]
    },
    {
      "cell_type": "code",
      "source": [
        "def sprawdz_pelnoletnosc(wiek):\n",
        "    if wiek>18:\n",
        "        return True\n",
        "    return False\n",
        "\n",
        "wiek = 15\n",
        "sprawdz_pelnoletnosc(wiek)"
      ],
      "metadata": {
        "colab": {
          "base_uri": "https://localhost:8080/"
        },
        "id": "8lvnrdL1D7q9",
        "outputId": "a58e25c6-f51b-4d39-d30d-2880155c4972"
      },
      "execution_count": null,
      "outputs": [
        {
          "output_type": "execute_result",
          "data": {
            "text/plain": [
              "False"
            ]
          },
          "metadata": {},
          "execution_count": 16
        }
      ]
    },
    {
      "cell_type": "code",
      "source": [
        "wyraz = input(\"podaj swoje imie: \")\n",
        "licznik =0\n",
        "\n",
        "for litera in wyraz:\n",
        "    if litera == \"a\":\n",
        "        licznik+=1\n",
        "\n",
        "print(f\"w podanym wyrazie a wystepuje {licznik} razy\")"
      ],
      "metadata": {
        "colab": {
          "base_uri": "https://localhost:8080/"
        },
        "id": "MX2jzZaBvzkT",
        "outputId": "11eabdbf-cdac-4f7d-dc35-7a949bd3f1a9"
      },
      "execution_count": null,
      "outputs": [
        {
          "output_type": "stream",
          "name": "stdout",
          "text": [
            "podaj swoje imie: justyna\n",
            "w podanym wyrazie a wystepuje 1 razy\n"
          ]
        }
      ]
    },
    {
      "cell_type": "code",
      "source": [
        "def suma(liczba):\n",
        "    s=0\n",
        "    for x in liczba:\n",
        "        if type(x) == int or type(x) == float:\n",
        "            s+=x\n",
        "    return s\n",
        "\n",
        "lista=[1,10,20,\"Ola\", 12, 20.2]\n",
        "print(suma(lista))"
      ],
      "metadata": {
        "colab": {
          "base_uri": "https://localhost:8080/"
        },
        "id": "346vbZmydhbO",
        "outputId": "1c371418-be0e-4d27-c6d0-435bb8162036"
      },
      "execution_count": null,
      "outputs": [
        {
          "output_type": "stream",
          "name": "stdout",
          "text": [
            "63.2\n"
          ]
        }
      ]
    },
    {
      "cell_type": "code",
      "source": [
        "## mapowanie oraz funcja zamiany st cel na far\n",
        "\n",
        "def st_c_na_f(stopnie_c):\n",
        "    st_f= stopnie_c*1.8+32\n",
        "    return st_f\n",
        "\n",
        "stopnie_c = [12, -2, 32, 16]\n",
        "\n",
        "print(st_c_na_f(12))\n",
        "\n",
        "stopnie_f = list(map(st_c_na_f,stopnie_c))\n",
        "print(stopnie_f)"
      ],
      "metadata": {
        "colab": {
          "base_uri": "https://localhost:8080/"
        },
        "id": "JXKsfcngknLV",
        "outputId": "b5f93911-687d-4d09-c73f-51161bd4827b"
      },
      "execution_count": null,
      "outputs": [
        {
          "output_type": "stream",
          "name": "stdout",
          "text": [
            "53.6\n",
            "[53.6, 28.4, 89.6, 60.8]\n"
          ]
        }
      ]
    },
    {
      "cell_type": "code",
      "source": [
        "##lambda - szybka funkcja, zazwyczaj jednorazowo używana\n",
        "st_c_na_f = lambda stopnie_c: stopnie_c*1.8+32\n",
        "\n",
        "stopnie_c = [12, -2, 32, 16]\n",
        "stopnie_f = list(map(st_c_na_f,stopnie_c)) ##mapujemy (na co zamieniamy, co zamieniamy)\n",
        "print(stopnie_f)\n",
        "\n",
        "##lambda to skrócona jednorazowa funkcja - możemy ją wkleić w mapowaniu przez co mamy krótki kod\n",
        "stopnie_f = list(map(lambda stopnie_c: stopnie_c*1.8+32,stopnie_c))\n",
        "print(stopnie_f)\n",
        "\n",
        "#zwraca istatni znak\n",
        "wyraz = \"Aleksander\"\n",
        "ostatni_znak = lambda x:x[-1]\n",
        "print(ostatni_znak(wyraz))"
      ],
      "metadata": {
        "colab": {
          "base_uri": "https://localhost:8080/"
        },
        "id": "OLWJ_h87qv15",
        "outputId": "353269fb-ab90-49ec-a446-1b3110ce5d7b"
      },
      "execution_count": null,
      "outputs": [
        {
          "output_type": "stream",
          "name": "stdout",
          "text": [
            "[53.6, 28.4, 89.6, 60.8]\n",
            "[53.6, 28.4, 89.6, 60.8]\n",
            "r\n"
          ]
        }
      ]
    },
    {
      "cell_type": "code",
      "source": [
        "lancuch = 'ala ma owce'\n",
        "lancuch.index('l')#jak nie ma wyswietli sie blad\n",
        "lancuch.find('l')#jak nie ma wyswietli sie -1\n",
        "'l' in lancuch#wielkosc liter ma znaczenie"
      ],
      "metadata": {
        "colab": {
          "base_uri": "https://localhost:8080/"
        },
        "id": "CsP2EY-2yGms",
        "outputId": "64d1a989-861e-4b61-c673-1599469804f3"
      },
      "execution_count": null,
      "outputs": [
        {
          "output_type": "execute_result",
          "data": {
            "text/plain": [
              "1"
            ]
          },
          "metadata": {},
          "execution_count": 2
        }
      ]
    },
    {
      "cell_type": "code",
      "source": [
        "\n",
        "def double(s:str,l:list,i:int):\n",
        "    s*=2\n",
        "    l*=2\n",
        "    i*=2\n",
        "    print(s,l,i)\n",
        "\n",
        "zdanie='ala ma kota'\n",
        "lista=[2,3,4]\n",
        "liczba=5\n",
        "double(zdanie,lista,liczba)\n",
        "\n",
        "print(lista)"
      ],
      "metadata": {
        "colab": {
          "base_uri": "https://localhost:8080/"
        },
        "id": "mAEuVRD54Doh",
        "outputId": "5d41a7fc-0efe-423d-c6b9-8ccf578f45a1"
      },
      "execution_count": null,
      "outputs": [
        {
          "output_type": "stream",
          "name": "stdout",
          "text": [
            "ala ma kotaala ma kota [2, 3, 4, 2, 3, 4] 10\n",
            "[2, 3, 4, 2, 3, 4]\n"
          ]
        }
      ]
    },
    {
      "cell_type": "code",
      "source": [
        "# .isdigit() sprawdza czy jest cyfrą\n",
        "\n",
        "def czy_cyfra(wyraz):\n",
        "    lista=[]\n",
        "    for znak in wyraz:\n",
        "        if znak.isdigit():\n",
        "            lista.append(znak)\n",
        "    return lista\n",
        "\n",
        "ciag_znakow = 'dzisiaj jest dzien 15.03.2024'\n",
        "wynik = czy_cyfra(ciag_znakow)\n",
        "print(wynik)"
      ],
      "metadata": {
        "colab": {
          "base_uri": "https://localhost:8080/"
        },
        "id": "wsK3HBLHN_I6",
        "outputId": "6e5789e6-661b-475c-86a9-b5e0fb2cbfbb"
      },
      "execution_count": null,
      "outputs": [
        {
          "output_type": "stream",
          "name": "stdout",
          "text": [
            "['1', '5', '0', '3', '2', '0', '2', '4']\n"
          ]
        }
      ]
    },
    {
      "cell_type": "code",
      "source": [
        "#tu dodamy wszystkie cyfry ale pojedyńcze\n",
        "\n",
        "def suma_cyfr_prosta(zdanie):\n",
        "    wynik=0\n",
        "    for znak in zdanie:\n",
        "        if znak.isdigit():\n",
        "            wynik+=int(znak)\n",
        "    return wynik\n",
        "\n",
        "\n",
        "cytat = \"Mama kupila 3 bulki i 2 chleby. Natomiast Marek kupil 12butelek\"\n",
        "suma_cyfr_prosta(cytat)\n"
      ],
      "metadata": {
        "colab": {
          "base_uri": "https://localhost:8080/"
        },
        "id": "KaHrPffRaX0P",
        "outputId": "abc4fb27-bb0b-47f7-db52-3d29a16e6728"
      },
      "execution_count": null,
      "outputs": [
        {
          "output_type": "execute_result",
          "data": {
            "text/plain": [
              "8"
            ]
          },
          "metadata": {},
          "execution_count": 43
        }
      ]
    },
    {
      "cell_type": "code",
      "source": [
        "#tu już złącza cyfry\n",
        "\n",
        "def suma_cyfr(tekst):\n",
        "    wynik=0\n",
        "    l=0\n",
        "    for znak in tekst:\n",
        "        if znak.isdigit():\n",
        "            l=l*10+int(znak)\n",
        "        else:\n",
        "            wynik+=l\n",
        "            l=0\n",
        "\n",
        "    return wynik\n",
        "\n",
        "\n",
        "cytat = \"Mama kupila 3 bulki i 2 chleby. Natomiast Marek kupil 12butelek\"\n",
        "print(suma_cyfr(cytat))"
      ],
      "metadata": {
        "colab": {
          "base_uri": "https://localhost:8080/"
        },
        "id": "vJPPocukctIA",
        "outputId": "8d484173-9560-472c-c58a-60492e0c98ce"
      },
      "execution_count": null,
      "outputs": [
        {
          "output_type": "stream",
          "name": "stdout",
          "text": [
            "17\n"
          ]
        }
      ]
    },
    {
      "cell_type": "code",
      "source": [
        "#liczymy same słowa bez znaków\n",
        "\n",
        "def licznik_slow(zdanie):\n",
        "    wynik=0\n",
        "    zdanie = zdanie.replace(\",\",\"\").replace(\".\",\"\").split()\n",
        "    for wyraz in zdanie:\n",
        "        if wyraz.isalpha() and len(wyraz)>2:\n",
        "            wynik+=1\n",
        "    return wynik\n",
        "\n",
        "cytat = \"Mama kupila 3 bulki i 2 chleby. Natomiast Marek kupil 12butelek\"\n",
        "print(licznik_slow(cytat))"
      ],
      "metadata": {
        "colab": {
          "base_uri": "https://localhost:8080/"
        },
        "id": "2XV8RIwo7QPm",
        "outputId": "ad26c2c9-679e-445f-beaa-28e1ee965478"
      },
      "execution_count": null,
      "outputs": [
        {
          "output_type": "stream",
          "name": "stdout",
          "text": [
            "7\n"
          ]
        }
      ]
    },
    {
      "cell_type": "code",
      "source": [
        "#liczy slowa używając słownika\n",
        "\n",
        "def licz_slowa(zdanie:str):\n",
        "    wszystkie_slowa = {}\n",
        "    zdanie= zdanie.replace(\",\",\"\").replace(\".\",\"\").split()\n",
        "    for slowo in zdanie:\n",
        "        if slowo.isalpha() and len(slowo)>2:\n",
        "            if slowo in wszystkie_slowa:\n",
        "                wszystkie_slowa[slowo]+=1\n",
        "            else:\n",
        "                wszystkie_slowa[slowo]=1\n",
        "\n",
        "    return wszystkie_slowa\n",
        "\n",
        "\n",
        "cytat = \"Mama kupila 3 bulki i 2 chleby. Natomiast Marek kupil 12butelek. Marek kupil kota.\"\n",
        "print(licz_slowa(cytat))"
      ],
      "metadata": {
        "colab": {
          "base_uri": "https://localhost:8080/"
        },
        "id": "GzAqwoL6I3Ly",
        "outputId": "6cb9ee07-f9a1-452f-ab34-6d73e2bdbfb4"
      },
      "execution_count": null,
      "outputs": [
        {
          "output_type": "stream",
          "name": "stdout",
          "text": [
            "{'Mama': 1, 'kupila': 1, 'bulki': 1, 'chleby': 1, 'Natomiast': 1, 'Marek': 2, 'kupil': 2, 'kota': 1}\n"
          ]
        }
      ]
    },
    {
      "cell_type": "code",
      "source": [
        "#licznik cyfr używając analogicznie słownika i używając plików tekstowych - poniżej info pliki tekstowe\n",
        "\n",
        "def digit_counter(sciezka):\n",
        "    counter={}\n",
        "\n",
        "\n",
        "    plik = open(sciezka)\n",
        "    znak = plik.read(1)\n",
        "\n",
        "    while znak:\n",
        "        if znak.isdigit() and znak not in counter:\n",
        "            counter[znak]=1\n",
        "        elif znak.isdigit():\n",
        "            counter[znak]+=1\n",
        "        znak = plik.read(1)\n",
        "    plik.close()\n",
        "    return counter\n",
        "\n",
        "test = digit_counter(\"nowy.txt\")\n",
        "print(test)\n",
        "\n",
        "for k,v in test.items():\n",
        "    print(f\"{k}:{v}\")"
      ],
      "metadata": {
        "colab": {
          "base_uri": "https://localhost:8080/"
        },
        "id": "kKue4F1VOgzo",
        "outputId": "20573bc5-6860-4af1-e240-cfeed32c7663"
      },
      "execution_count": null,
      "outputs": [
        {
          "output_type": "stream",
          "name": "stdout",
          "text": [
            "{'3': 3, '2': 11, '1': 11}\n",
            "3:3\n",
            "2:11\n",
            "1:11\n"
          ]
        }
      ]
    },
    {
      "cell_type": "code",
      "source": [
        "# Zadanie: Policz liczbę wystąpień liter w ciągu znaków. Wielkość liter nie ma znaczenia\n",
        "\n",
        "text = \"Ala ma 12 kotów. Adam nie ma HAHAHA!!! Pchła, szła.\"\n",
        "\n",
        "counter={}\n",
        "text_l= text.lower()\n",
        "\n",
        "for litera in text_l:\n",
        "    if litera.isalpha() and litera not in counter:\n",
        "        counter[litera]=1\n",
        "    elif litera.isalpha() and litera in counter:\n",
        "        counter[litera]+=1\n",
        "print(counter)"
      ],
      "metadata": {
        "colab": {
          "base_uri": "https://localhost:8080/"
        },
        "id": "anM-m-4PgcKP",
        "outputId": "dcb9e0aa-a8c9-467a-c14d-c861878daeb3"
      },
      "execution_count": null,
      "outputs": [
        {
          "output_type": "stream",
          "name": "stdout",
          "text": [
            "{'a': 11, 'l': 1, 'm': 3, 'k': 1, 'o': 1, 't': 1, 'ó': 1, 'w': 1, 'd': 1, 'n': 1, 'i': 1, 'e': 1, 'h': 4, 'p': 1, 'c': 1, 'ł': 2, 's': 1, 'z': 1}\n"
          ]
        }
      ]
    },
    {
      "cell_type": "code",
      "source": [
        "#pliki tekstowe\n",
        "plik = open(\"/content/export_USDJPY_1440.csv\", \"r\")\n",
        "#pokazuje nam pozycję wskaznika w tekscie\n",
        "pozycja_poczatkowa = plik.tell()\n",
        "print(pozycja_poczatkowa)\n",
        "\n",
        "tekst = plik.read()#odczyt pliku\n",
        "pozycja_koncowa = plik.tell()\n",
        "print(pozycja_koncowa)\n",
        "print(tekst)#wyswietlenie pliku\n",
        "plik.close()"
      ],
      "metadata": {
        "id": "u6VMsB1RRSBt"
      },
      "execution_count": null,
      "outputs": []
    },
    {
      "cell_type": "code",
      "source": [
        "#analogiczny odczyt\n",
        "tekst= open(\"/content/export_USDJPY_1440.csv\").read()\n",
        "print(tekst)\n"
      ],
      "metadata": {
        "id": "o9_1_s8VlsWH"
      },
      "execution_count": null,
      "outputs": []
    },
    {
      "cell_type": "code",
      "source": [
        "#odczyt z parametrem - 100znakow\n",
        "tekst_fragment = open(\"/export_USDJPY_1440.csv\").read(100)\n",
        "print(tekst_fragment)\n"
      ],
      "metadata": {
        "colab": {
          "base_uri": "https://localhost:8080/"
        },
        "id": "fxKYxTyFnAl2",
        "outputId": "e8284ed0-e447-4a20-b48a-9d293e1e7e32"
      },
      "execution_count": null,
      "outputs": [
        {
          "output_type": "stream",
          "name": "stdout",
          "text": [
            "Data,Close,Bulls_14,CCI_14,DM_14,OSMA,RSI_14,Stoch,DecisionClass\n",
            "2000.01.04,103.15,0.9788,225.13302,\n"
          ]
        }
      ]
    },
    {
      "cell_type": "code",
      "source": [
        "#obsluga wyjatkow\n",
        "lista = [23, \"423\", 1, \"Dorota\", 3, 5]\n",
        "\n",
        "try:\n",
        "    sum(lista)\n",
        "except TypeError:\n",
        "    print(\"nie można dodać\")#obsluzy tylko ten blad\n",
        "except:\n",
        "    print(\"blad w kodzie\")#kazdy inny blad"
      ],
      "metadata": {
        "colab": {
          "base_uri": "https://localhost:8080/"
        },
        "id": "h8KbVJdTlMq2",
        "outputId": "0e88c953-2cab-42da-e259-ee0b61a9cea5"
      },
      "execution_count": null,
      "outputs": [
        {
          "output_type": "stream",
          "name": "stdout",
          "text": [
            "nie można dodać\n"
          ]
        }
      ]
    },
    {
      "cell_type": "code",
      "source": [
        "#funkcja sortujaca macierz względem różnicy maksymalnego i minimalnego parametru w wierszu +odwrotność\n",
        "def max_min(l):\n",
        "    wynik= max(l)-min(l)\n",
        "    return wynik\n",
        "\n",
        "def sum_sort(matrix):\n",
        "    copy = [wiersz[:] for wiersz in matrix]\n",
        "    copy.sort(key=lambda list: max(list) - min(list), reverse=True)\n",
        "    return copy\n",
        "\n",
        "def sum_sort_2(matrix):\n",
        "    return sorted([wiersz[:] for wiersz in matrix],key=lambda l: max(l) - min(l), reverse=True)\n",
        "\n",
        "matrix = [[0,2,9,4], [1,4,1,2], [5,3,0,6], [7,5,-3,5]]\n",
        "\n",
        "result = sum_sort_2(matrix)\n",
        "print(result)"
      ],
      "metadata": {
        "colab": {
          "base_uri": "https://localhost:8080/"
        },
        "id": "yhkt5mreG4Jk",
        "outputId": "e2b21382-0baf-4c99-9cbd-63987e0457d7"
      },
      "execution_count": null,
      "outputs": [
        {
          "output_type": "stream",
          "name": "stdout",
          "text": [
            "[[7, 5, -3, 5], [0, 2, 9, 4], [5, 3, 0, 6], [1, 4, 1, 2]]\n"
          ]
        }
      ]
    },
    {
      "cell_type": "code",
      "source": [
        "tekst_ala = open(\"ala.txt\").read()\n",
        "print(tekst_ala)\n"
      ],
      "metadata": {
        "colab": {
          "base_uri": "https://localhost:8080/"
        },
        "id": "2nZR179YpiRl",
        "outputId": "409d63c6-b775-47bd-f763-87eba07ce328"
      },
      "execution_count": null,
      "outputs": [
        {
          "output_type": "stream",
          "name": "stdout",
          "text": [
            "Ala ma kota i dwa psy.\n"
          ]
        }
      ]
    },
    {
      "cell_type": "code",
      "source": [
        "plik= open(\"ala.txt\")\n",
        "odczyt=plik.read(2)\n",
        "plik.tell()\n",
        "plik.close()"
      ],
      "metadata": {
        "id": "7ZlWEzEwqAu0"
      },
      "execution_count": null,
      "outputs": []
    },
    {
      "cell_type": "code",
      "source": [
        "#odczyt pliku do spacji, a następnie cofniecie się do początku i odczyt całości. Bez seek() wyświetli resztę tekstu bez cofnięcia się do początku.\n",
        "\n",
        "tekst = open(\"ala.txt\")\n",
        "znak = tekst.read(1)\n",
        "\n",
        "while znak and not znak.isspace():\n",
        "    print(znak)\n",
        "    znak = tekst.read(1)\n",
        "\n",
        "tekst.seek(0)#cofa nam się do początku tekstu\n",
        "print(tekst.read())\n",
        "\n",
        "tekst.close()"
      ],
      "metadata": {
        "colab": {
          "base_uri": "https://localhost:8080/"
        },
        "id": "9K1EMzMMwl4t",
        "outputId": "e938182e-7c1c-47c3-ae6e-8827fc489ded"
      },
      "execution_count": null,
      "outputs": [
        {
          "output_type": "stream",
          "name": "stdout",
          "text": [
            "A\n",
            "l\n",
            "a\n",
            "Ala ma kota i dwa psy.\n"
          ]
        }
      ]
    },
    {
      "cell_type": "code",
      "source": [
        "#readline - zwraca nam 1 linie razem z \\n\n",
        "#readlines - zwraca nam listę składającą się z łańcuchów znaków, gdzie 1łańcuch to 1 linia\n",
        "#to co w nawiasie wpiszemy tyle znaków wyskoczy\n",
        "\n",
        "tekst = open('liczby.txt')\n",
        "fragment = tekst.readlines()\n",
        "print(fragment)"
      ],
      "metadata": {
        "colab": {
          "base_uri": "https://localhost:8080/"
        },
        "id": "Fr25YknsCT55",
        "outputId": "6a3787ce-0cc5-48ae-eb3d-0e19280edf92"
      },
      "execution_count": null,
      "outputs": [
        {
          "output_type": "stream",
          "name": "stdout",
          "text": [
            "['00000111101010101010\\n', '00000111101010101010\\n', '00000111101010101010\\n', '00000111101010101010\\n', '00000111101010101010\\n', '00000111101010101010\\n', '00000111101010101010\\n', '00000111101010101010']\n"
          ]
        }
      ]
    },
    {
      "cell_type": "code",
      "source": [
        "#zapis do pliku\n",
        "plik = open('nowy.txt', 'w')\n",
        "imie = \"Justyna\"\n",
        "nazwisko=\"babuchowska\"\n",
        "wiek=33\n",
        "plik.write(f\"mam na imie {imie} i nazwisko {nazwisko} wiek {wiek} lat\\n\")\n",
        "\n",
        "imie = \"Marta\"\n",
        "nazwisko=\"Roszak\"\n",
        "wiek=32\n",
        "plik.write(f\"mam na imie {imie} i nazwisko {nazwisko} wiek {wiek} lat\\n\")\n",
        "plik.close()\n"
      ],
      "metadata": {
        "id": "5ih7nX_pKh-D"
      },
      "execution_count": null,
      "outputs": []
    },
    {
      "cell_type": "code",
      "source": [
        "#dopisywanie tekstu\n",
        "plik = open('nowy.txt', 'a')\n",
        "plik.write(\"dodany tekst\")\n",
        "plik.close()"
      ],
      "metadata": {
        "id": "5YkHosWLPJ1B"
      },
      "execution_count": null,
      "outputs": []
    },
    {
      "cell_type": "code",
      "source": [
        "#zapis pliku w trybie x - nie może istnieć inaczej błąd\n",
        "plik = open(\"test.txt\",\"x\")\n",
        "plik.write(\"tekst przykladowy\")\n",
        "plik.close()"
      ],
      "metadata": {
        "id": "GbYWNKIvP9CZ"
      },
      "execution_count": null,
      "outputs": []
    },
    {
      "cell_type": "code",
      "source": [
        "def read_table(sciezka):\n",
        "\n",
        "    tabela=open(\"test.txt\")\n",
        "    tekst = tabela.readlines()\n",
        "    data=[]\n",
        "    for zdanie in tekst:\n",
        "        zdanie = zdanie.split()\n",
        "        data.append(zdanie)\n",
        "    return data\n",
        "\n",
        "przyklad = read_table(\"nowy.txt\")\n",
        "print(przyklad)\n",
        "\n",
        "def read_table_2(sciezka):\n",
        "    return [zdanie.split() for zdanie in open(sciezka).readlines()]\n",
        "\n",
        "przyklad = read_table_2(\"nowy.txt\")\n",
        "print(przyklad)"
      ],
      "metadata": {
        "colab": {
          "base_uri": "https://localhost:8080/"
        },
        "id": "l4qTsvGZiNyA",
        "outputId": "e1ca9b7c-70cb-4fb8-bd6d-ae419c08496a"
      },
      "execution_count": null,
      "outputs": [
        {
          "output_type": "stream",
          "name": "stdout",
          "text": [
            "[['tekst', 'przykladowy']]\n",
            "[['mam', 'na', 'imie', 'Justyna', 'i', 'nazwisko', 'babuchowska', 'wiek', '33', 'lat'], ['mam', 'na', 'imie', 'Marta', 'i', 'nazwisko', 'Roszak', 'wiek', '32', 'lat'], ['dodany', 'tekst'], ['11111111111'], ['2222222222']]\n"
          ]
        }
      ]
    },
    {
      "cell_type": "code",
      "source": [
        "#rstrip() metoda która usówa białe znaki po prawej stronie strip() - usunie biale znaki po prawej i lewej stronie\n",
        "\n",
        "tekst = open(\"nowy.txt\")\n",
        "linie = tekst.readline().rstrip()\n",
        "\n",
        "while linie:\n",
        "    print(linie)\n",
        "    linie = tekst.readline().rstrip()"
      ],
      "metadata": {
        "id": "aHIy7qvTnLye"
      },
      "execution_count": null,
      "outputs": []
    },
    {
      "cell_type": "code",
      "source": [
        "#zamiana liter na znaki\n",
        "\n",
        "tresc = \"Ala ma kota\"\n",
        "\n",
        "id_znaku = 0\n",
        "kod_znaku = 1\n",
        "\n",
        "while not tresc.isdigit():\n",
        "    znak = tresc[id_znaku]\n",
        "    if not znak.isdigit():\n",
        "        tresc=tresc.replace(znak, str(kod_znaku))\n",
        "        kod_znaku+=1\n",
        "    id_znaku+=1\n",
        "\n",
        "print(tresc)"
      ],
      "metadata": {
        "colab": {
          "base_uri": "https://localhost:8080/"
        },
        "id": "3yszD4hIwXah",
        "outputId": "1e8cfc66-bf0d-49c4-9ed2-07a7960941f3"
      },
      "execution_count": null,
      "outputs": [
        {
          "output_type": "stream",
          "name": "stdout",
          "text": [
            "12345346783\n"
          ]
        }
      ]
    },
    {
      "cell_type": "code",
      "source": [
        "tekst_1=\"Ala ma kota\"\n",
        "tekst_2= tekst_1.replace(\"kota\",\"psa\")\n",
        "print(tekst_2)"
      ],
      "metadata": {
        "colab": {
          "base_uri": "https://localhost:8080/"
        },
        "id": "1vFCzTvH2Bcx",
        "outputId": "d3c26d0c-6359-4687-fc13-39cbcb3b34f7"
      },
      "execution_count": null,
      "outputs": [
        {
          "output_type": "stream",
          "name": "stdout",
          "text": [
            "Ala ma psa\n"
          ]
        }
      ]
    },
    {
      "cell_type": "code",
      "source": [
        "#biblioteka random - losowe liczby\n",
        "import random\n",
        "a = 10\n",
        "b = 50\n",
        "\n",
        "for el in range(10):\n",
        "    losowa_liczba= random.randint(a,b)\n",
        "    print(losowa_liczba)\n",
        "\n",
        "losowa_liczba_2 = [random.randint(a,b) for el in range(10)]\n",
        "print(losowa_liczba_2)\n",
        "\n",
        "#teraz tylko unikalne liczby 1sposob\n",
        "\n",
        "unikalne_liczby = set(losowa_liczba_2)\n",
        "print(unikalne_liczby)\n",
        "\n",
        "#unikalne liczby 2sposob\n",
        "\n",
        "unikalne_liczby_10 =[]\n",
        "\n",
        "for el in range(10):\n",
        "    losowa_l = random.randint(a,b)\n",
        "    if losowa_l not in unikalne_liczby_10:\n",
        "        unikalne_liczby_10.append(losowa_l)\n",
        "print(unikalne_liczby_10)\n",
        "\n",
        "#losowe liczby parzyste\n",
        "liczby_parzyste = [el for el in losowa_liczba_2 if el%2==0]\n",
        "print(liczby_parzyste)\n",
        "#random.sample(zakres,ilosc) służy do losowego wybierania próbek z danego zbioru\n",
        "zakres = [el for el in range(a,b+1)]\n",
        "lista_losowa= random.sample(zakres,15)\n",
        "print(lista_losowa)\n",
        "\n",
        "# podanalista.count(el) liczy nam ile jest el w podanalista\n",
        "lista_losowa.count(50)"
      ],
      "metadata": {
        "id": "zFfTskPP8z9h"
      },
      "execution_count": null,
      "outputs": []
    },
    {
      "cell_type": "code",
      "source": [
        "#lista.index(szukana) - wskazuje nam indeks szukanej w liscie\n",
        "# try except - obsluga wyjatkow (zamiast bledu wyswietli to co w except)\n",
        "\n",
        "lista = [2,3,6,\"Ola\", \"kasia\", 10, 30]\n",
        "szukana = \"Ola\"\n",
        "\n",
        "try:\n",
        "    indeks = lista.index(szukana)\n",
        "except:\n",
        "    indeks = -1\n",
        "\n",
        "print(indeks)"
      ],
      "metadata": {
        "colab": {
          "base_uri": "https://localhost:8080/"
        },
        "id": "xI02KX8TQow7",
        "outputId": "6c3eedc7-c4d6-48f4-9f7f-4145cc377447"
      },
      "execution_count": null,
      "outputs": [
        {
          "output_type": "stream",
          "name": "stdout",
          "text": [
            "3\n"
          ]
        }
      ]
    },
    {
      "cell_type": "code",
      "source": [
        "#sortowanie listy można podac parametr w nawiasie\n",
        "lista = [\"Dorota\", \"Asia\", \"Kasia\", \"Ola\", \"Alan\", \"Ala\", \"Aleksandra\", \"Joanna\"]\n",
        "lista.sort()\n",
        "print(lista)\n",
        "lista.sort(reverse=True)\n",
        "print(lista)\n",
        "lista.sort(key=len)\n",
        "print(lista)\n",
        "lista.sort(reverse=True, key=len)\n",
        "print(lista)\n",
        "lista.sort(key=lambda s:s[-2])\n",
        "print(lista)"
      ],
      "metadata": {
        "id": "HAI_Sq5hTSbe"
      },
      "execution_count": null,
      "outputs": []
    },
    {
      "cell_type": "code",
      "source": [
        "dane = [\n",
        "    [\"Jan\", 74, 1.75, 41, 'M'],\n",
        "    [\"Ola\", 55, 1.65, 23, 'K'],\n",
        "    [\"Test\", 89, 1.89, 33, \"M\"]\n",
        " ]\n",
        "print(dane)\n",
        "print(dane[1])\n",
        "print(dane[1][2])\n",
        "\n",
        "for wiersz in dane:\n",
        "    wzrost = wiersz[2]\n",
        "    waga = wiersz[1]\n",
        "    print(wiersz, f\"BMI: {waga/wzrost**2}\")\n",
        "\n",
        "plec = [wiersz[-1] for wiersz in dane]\n",
        "print(plec)\n",
        "print(plec.count(\"K\"))"
      ],
      "metadata": {
        "colab": {
          "base_uri": "https://localhost:8080/"
        },
        "id": "bbDnUiADbtoF",
        "outputId": "18c5ec45-3036-4eb7-fffb-681723daf857"
      },
      "execution_count": null,
      "outputs": [
        {
          "output_type": "stream",
          "name": "stdout",
          "text": [
            "[['Jan', 74, 1.75, 41, 'M'], ['Ola', 55, 1.65, 23, 'K'], ['Test', 89, 1.89, 33, 'M']]\n",
            "['Ola', 55, 1.65, 23, 'K']\n",
            "1.65\n",
            "['Jan', 74, 1.75, 41, 'M'] BMI: 24.163265306122447\n",
            "['Ola', 55, 1.65, 23, 'K'] BMI: 20.202020202020204\n",
            "['Test', 89, 1.89, 33, 'M'] BMI: 24.915315920606925\n",
            "['M', 'K', 'M']\n",
            "1\n"
          ]
        }
      ]
    },
    {
      "cell_type": "code",
      "source": [
        " import numpy as np\n",
        "\n",
        "dane = [\n",
        "    [\"Jan\", 74, 1.75, 41, 'M'],\n",
        "    [\"Ola\", 55, 1.65, 23, 'K'],\n",
        "    [\"Test\", 89, 1.89, 33, \"M\"]\n",
        " ]\n",
        "array=np.array(dane)\n",
        "print(array)\n",
        "\n",
        "for row in array:\n",
        "    print(row)\n",
        "\n",
        "print(array[2,1])\n",
        "print(array[:,-1])\n",
        "pierwszy_wiersz= array[0]\n",
        "print(pierwszy_wiersz)\n",
        "\n",
        "for i_col in range(len(array[0])): # liczba kolumn array[0]\n",
        "    print(array[:,i_col])#z calego zbioru (:) kolejny element danej kolumny"
      ],
      "metadata": {
        "colab": {
          "base_uri": "https://localhost:8080/"
        },
        "id": "d-GVTS54gycU",
        "outputId": "108d7af8-37d7-4839-cd2a-456f15a1e7d9"
      },
      "execution_count": null,
      "outputs": [
        {
          "output_type": "stream",
          "name": "stdout",
          "text": [
            "[['Jan' '74' '1.75' '41' 'M']\n",
            " ['Ola' '55' '1.65' '23' 'K']\n",
            " ['Test' '89' '1.89' '33' 'M']]\n",
            "['Jan' '74' '1.75' '41' 'M']\n",
            "['Ola' '55' '1.65' '23' 'K']\n",
            "['Test' '89' '1.89' '33' 'M']\n",
            "89\n",
            "['M' 'K' 'M']\n",
            "['Jan' '74' '1.75' '41' 'M']\n",
            "['Jan' 'Ola' 'Test']\n",
            "['74' '55' '89']\n",
            "['1.75' '1.65' '1.89']\n",
            "['41' '23' '33']\n",
            "['M' 'K' 'M']\n"
          ]
        }
      ]
    },
    {
      "cell_type": "code",
      "source": [
        "#wyszukaj slowo w tekscie\n",
        "def wyszukaj(sciezka, slowo):\n",
        "    tekst = open(sciezka)\n",
        "    linia = tekst.readline()\n",
        "\n",
        "    while linia:\n",
        "        if slowo in linia:\n",
        "            print(linia, end=\"\")# end=\"\", to nic nie zostanie dodane na końcu wydruku, co oznacza, że kolejne wywołania print() będą kontynuacją tego samego wiersza.Domyslnie kursor przeniesiony do nowej linii\n",
        "        linia = tekst.readline()\n",
        "\n",
        "    tekst.close()\n",
        "\n",
        "roszak = wyszukaj(\"nowy.txt\", \"Roszak\")\n"
      ],
      "metadata": {
        "colab": {
          "base_uri": "https://localhost:8080/"
        },
        "id": "h9zsTNq5oYIU",
        "outputId": "fca7dd6c-ded4-4561-f6ab-950d08d3be20"
      },
      "execution_count": null,
      "outputs": [
        {
          "output_type": "stream",
          "name": "stdout",
          "text": [
            "mam na imie Marta i nazwisko Roszak wiek 32 lat\n"
          ]
        }
      ]
    },
    {
      "cell_type": "code",
      "source": [
        "slownik = {5:\"Ala\", 3.14:\"PI\", \"test\": 1234, \"lista\":[1,2,\"Ola\",5]}\n",
        "klucze = slownik.keys()\n",
        "print(list(klucze))\n",
        "wartosci= list(slownik.values())\n",
        "print(wartosci)\n",
        "wszystko = list(slownik.items())\n",
        "print(wszystko)"
      ],
      "metadata": {
        "colab": {
          "base_uri": "https://localhost:8080/"
        },
        "id": "oykvnEmiv4Un",
        "outputId": "c79397af-15a6-4e67-ef39-f9b73763ff7a"
      },
      "execution_count": null,
      "outputs": [
        {
          "output_type": "stream",
          "name": "stdout",
          "text": [
            "[5, 3.14, 'test', 'lista']\n",
            "['Ala', 'PI', 1234, [1, 2, 'Ola', 5]]\n",
            "[(5, 'Ala'), (3.14, 'PI'), ('test', 1234), ('lista', [1, 2, 'Ola', 5])]\n"
          ]
        }
      ]
    },
    {
      "cell_type": "code",
      "source": [
        "#metoda zip laczy nam 2listy w krotki spinajac elementy o tych samych indeksch\n",
        "l1 = [4,3,1,6,9]\n",
        "l2 = [7,6,7,2]\n",
        "l3= zip(l1,l2)\n",
        "print(l3)\n",
        "print(list(l3))"
      ],
      "metadata": {
        "colab": {
          "base_uri": "https://localhost:8080/"
        },
        "id": "FuDSyOY5ysW6",
        "outputId": "20d55a3a-899a-4e4b-b0fe-75108beb5d17"
      },
      "execution_count": null,
      "outputs": [
        {
          "output_type": "stream",
          "name": "stdout",
          "text": [
            "<zip object at 0x78ea24c97040>\n",
            "[(4, 7), (3, 6), (1, 7), (6, 2)]\n"
          ]
        }
      ]
    },
    {
      "cell_type": "code",
      "source": [
        "#powyżej 10 wyświetl tylko reszte z dzielenia przez 10\n",
        "slownik = {\"czynik A\" : 3, \"parametr 1\": 126, \"test\": 887, \"test2\": 8}\n",
        "\n",
        "for k, v in slownik.items():\n",
        "    if v>10:\n",
        "        slownik[k]= v%10\n",
        "print(slownik)"
      ],
      "metadata": {
        "colab": {
          "base_uri": "https://localhost:8080/"
        },
        "id": "mg-qUErPHfOt",
        "outputId": "61814ba0-8cd2-468f-9a06-fab8c2f12b3d"
      },
      "execution_count": null,
      "outputs": [
        {
          "output_type": "stream",
          "name": "stdout",
          "text": [
            "{'czynik A': 3, 'parametr 1': 6, 'test': 7, 'test2': 8}\n"
          ]
        }
      ]
    },
    {
      "cell_type": "code",
      "source": [
        "#biblioteka os\n",
        "import os\n",
        "#utworzy folder (mk od make)\n",
        "#os.mkdir(\"wyniki\")\n",
        "\n",
        "#sprawdzanie czy dany folder/plik istnieje\n",
        "if not os.path.exists(\"wyniki\"):\n",
        "    os.mkdir(\"wyniki\") #tu tworzy folder\n",
        "\n",
        "\n",
        "#sprawdzanie czy dany folder/plik istnieje\n",
        "os.path.exist(\"nowy\")\n",
        "#sprawdza czy istnieje folder\n",
        "os.path.isdir('nowy')\n",
        "#sprawdza czy istnieje plik\n",
        "os.path.isfile(\"nowy\")\n",
        "#usuniecie folderu\n",
        "os.rmdir('wyniki')\n",
        "#usuniecie pliku\n",
        "os.remove(\"nowy\")"
      ],
      "metadata": {
        "id": "KKOQS4ZNUDC5"
      },
      "execution_count": null,
      "outputs": []
    },
    {
      "cell_type": "code",
      "source": [
        "#zwracanie listy nazw plików w folderze\n",
        "import os\n",
        "os.listdir('sample_data')"
      ],
      "metadata": {
        "id": "Eq9yRGhbXijF"
      },
      "execution_count": null,
      "outputs": []
    },
    {
      "cell_type": "code",
      "source": [
        "os.path.join(\"ala\",\"test\",\"kot.log\")\n",
        "print( os.path.join(\"ala\",\"test\",\"kot.log\") )"
      ],
      "metadata": {
        "id": "BitT4g4kdDDc"
      },
      "execution_count": null,
      "outputs": []
    },
    {
      "cell_type": "code",
      "source": [
        "#wyswietlamy wszystko co jest plikiem w danej sciezce\n",
        "import os\n",
        "\n",
        "def wyswietl_pliki(sciezka):\n",
        "\n",
        "    nazwy_plikow = [nazwa for nazwa in os.listdir(sciezka) if os.path.isfile(os.path.join(sciezka, nazwa))]#tu robimy join aby wykonal nam sciezke dla kazdej nazwy pliku\n",
        "    for nazwa in nazwy_plikow:\n",
        "        print(nazwa)\n",
        "        tresc = open(os.path.join(sciezka, nazwa)).read()#tu musimy znowu stworzyc sciezke przez laczenie - to mozna wstawic wyzej w nazwa\n",
        "        print(tresc)\n",
        "\n",
        "wyswietl_pliki(\"/content/drive/MyDrive/Colab Notebooks\")\n"
      ],
      "metadata": {
        "id": "_pojieBPyZmn"
      },
      "execution_count": null,
      "outputs": []
    },
    {
      "cell_type": "code",
      "source": [
        "#os.walk() zwraca generator do pełnej struktury, gdzie każdy element to krotka\n",
        "\n",
        "sciezka = \"/content/drive/MyDrive/Colab Notebooks\"\n",
        "gen = os.walk(sciezka)\n",
        "\n",
        "for el in gen:\n",
        "    print(el)"
      ],
      "metadata": {
        "id": "dMcp_GAhJn4d"
      },
      "execution_count": null,
      "outputs": []
    },
    {
      "cell_type": "code",
      "source": [
        "# Z pliku wejściowego przepisujemy do pliku wyjściowego linie\n",
        "# Na wejściu plik z parmai walutowymi, ostatnia kolumna, to róznica\n",
        "# notowań. Chcemy przepisać do drugiego pliku tylko wiersze, w których\n",
        "# różnica jest większa / mniejsza od podanej wartości.\n",
        "\n",
        "def kopiuj_tekst(sciezka_in, sciezka_out, value: 0.0, up = True, sep = \",\") -> None:\n",
        "    rows= open(sciezka_in).readlines()\n",
        "    kopia=[]\n",
        "    kopia.append(rows[0])\n",
        "\n",
        "    for row in rows[1:]:\n",
        "        row_list= row.strip().split(sep)\n",
        "        if row_list[-1] != \"\":\n",
        "            row_value=float(row_list[-1])\n",
        "            if row_value > value and up :\n",
        "                kopia.append(row)\n",
        "            elif row_value<value and not up:\n",
        "                kopia.append(row)\n",
        "\n",
        "    open(sciezka_out,\"w\").writelines(kopia)\n",
        "\n",
        "dane_wejscia = \"/content/drive/MyDrive/Colab Notebooks/export_USDJPY_1440.csv\"\n",
        "plik_wyjscia = \"plik_wyjscia.csv\"\n",
        "\n",
        "kopiuj_tekst(dane_wejscia, plik_wyjscia, value=2.2)"
      ],
      "metadata": {
        "id": "UbahqIiOejgH"
      },
      "execution_count": null,
      "outputs": []
    },
    {
      "cell_type": "code",
      "source": [
        "#wczytać z odrębnych folderów pliki i wyciągnąc cyfry int plus policzyc sumę (zakładamy, że cyfry całkowite oddzielone .,)\n",
        "import os\n",
        "def count_numbers(path:str) -> int:\n",
        "    dir_names=[os.path.join(path, name) for name in os.listdir(path) if os.path.isdir(os.path.join(path, name))]\n",
        "\n",
        "    all_sum=0\n",
        "    for dir_name in dir_names:\n",
        "        print(dir_name.split(os.path.sep)[-1])\n",
        "        counter={}\n",
        "\n",
        "        for name in os.listdir(dir_name):\n",
        "            tekst=open(os.path.join(dir_name, name)).read().replace(\".\", \" \").replace(\",\",\" \")\n",
        "            words = tekst.split()\n",
        "            for word in words:\n",
        "                if word.isdigit():\n",
        "                    counter[word]= counter.get(word, 0)+1\n",
        "                    all_sum+=int(word)\n",
        "\n",
        "        for k, v in counter.items():\n",
        "            print(f\"{k}: {v}\")\n",
        "    return all_sum\n",
        "\n",
        "\n",
        "suma=count_numbers(\"/content/drive/MyDrive/Colab Notebooks/ksiazki\")\n",
        "print(suma)"
      ],
      "metadata": {
        "id": "kWz6F42efkTq"
      },
      "execution_count": null,
      "outputs": []
    },
    {
      "cell_type": "code",
      "source": [
        "#projekt matrix\n",
        "#musimy z folderu odczytac pliki do odczytu\n",
        "#musimy znalezc index wiersza, gdzie jest confusion matrix\n",
        "# otworzyc pierwszy plik i od tego indeksu odczytac i tyko to co jest przed \"|\", zapisać jako one_cm\n",
        "#zrobić sume cm, gdzie każdy następny będzie dodawany jeśłi jest 0 zwraca nam istniejącą wartość sumy\n",
        "#zapisać do pliku jako output\n",
        "import numpy as np\n",
        "import os\n",
        "\n",
        "def read_one_cm(lines, index):\n",
        "    one_cm=[]\n",
        "    while \"|\" in lines[index]:\n",
        "        line=lines[index]\n",
        "        line=line.split(\"|\")[0]\n",
        "        line=line.split()\n",
        "        line=list(map(int,line))\n",
        "        one_cm.append(line)\n",
        "\n",
        "        index+=1\n",
        "    return one_cm\n",
        "\n",
        "def add_cm(cm, one_cm):\n",
        "    if not cm:\n",
        "        return one_cm\n",
        "    array_cm= np.array(cm)\n",
        "    array_one_cm = np.array(one_cm)\n",
        "    array_cm+=one_cm\n",
        "\n",
        "    return array_cm.tolist()\n",
        "\n",
        "def write_cm(sum_cm):\n",
        "    output= open(\"results.txt\", \"w\")\n",
        "    for row in sum_cm:\n",
        "        output.writelines(\" \".join(map(str,row))+\"\\n\")\n",
        "    output.close()\n",
        "\n",
        "def confusion_matrix(path):\n",
        "    names=os.listdir(path)\n",
        "    sum_cm = None\n",
        "    for name in names:\n",
        "        lines=open(os.path.join(path,name)).readlines()\n",
        "        index= lines.index(\"=== Confusion Matrix ===\\n\")+3\n",
        "        one_cm= read_one_cm(lines,index)\n",
        "        sum_cm = add_cm(sum_cm, one_cm)\n",
        "    write_cm(sum_cm)\n",
        "\n",
        "#uruchomienie programu\n",
        "path = \"/content/drive/MyDrive/Colab Notebooks/dane-projekt/dane\"\n",
        "confusion_matrix(path)"
      ],
      "metadata": {
        "id": "MrE-NVsIZCum"
      },
      "execution_count": null,
      "outputs": []
    },
    {
      "cell_type": "code",
      "source": [
        "import os\n",
        "\n",
        "sciezka = \"/content/drive/MyDrive/Colab Notebooks/dane-projekt/dane/AUD_USD CART.txt\"\n",
        "tekst=open(sciezka).readlines()\n",
        "index= tekst.index(\"=== Confusion Matrix ===\\n\")+3\n",
        "\n",
        "dodane=[]\n",
        "while \"|\" in tekst[index]:\n",
        "    linia=tekst[index]\n",
        "    linia=linia.split(\"|\")[0]\n",
        "    linia=linia.split()\n",
        "    linia=list(map(int,linia))\n",
        "    dodane.append(linia)\n",
        "    index+=1\n",
        "print(dodane)"
      ],
      "metadata": {
        "colab": {
          "base_uri": "https://localhost:8080/"
        },
        "id": "-jinpyeZ2rNp",
        "outputId": "0745cc43-ebc5-4b5d-e993-ad98382ca1a2"
      },
      "execution_count": null,
      "outputs": [
        {
          "output_type": "stream",
          "name": "stdout",
          "text": [
            "[[2, 3, 0, 0, 0, 0, 0, 0, 0, 0, 0], [5, 12, 12, 2, 0, 0, 0, 0, 0, 0, 0], [0, 3, 39, 23, 4, 0, 0, 0, 0, 0, 0], [0, 1, 18, 81, 40, 1, 0, 0, 0, 0, 0], [0, 0, 0, 22, 178, 53, 2, 0, 0, 0, 0], [0, 0, 0, 3, 43, 227, 59, 0, 0, 0, 0], [0, 0, 0, 0, 0, 62, 166, 24, 0, 0, 0], [0, 0, 0, 0, 0, 3, 55, 48, 9, 2, 0], [0, 0, 0, 0, 0, 0, 1, 13, 19, 2, 1], [0, 0, 0, 0, 0, 0, 0, 1, 5, 5, 0], [0, 0, 0, 0, 0, 0, 0, 0, 0, 0, 0]]\n"
          ]
        }
      ]
    },
    {
      "cell_type": "code",
      "source": [
        "#pandas\n",
        "import pandas as pd\n",
        "lista = [10,20,50,44,13.5, -22]\n",
        "\n",
        "#pandas Series() do pojedyńczych kolumn\n",
        "l_pd=pd.Series(lista)\n",
        "print(l_pd.abs()) #zamienia minus na plus ale nie zamienia głównej listy\n",
        "print(l_pd.describe()) # wyświetla min, max, count(jak len), procent\n",
        "l_pd.index = [\"a\",\"b\",\"c\",\"d\",\"e\",\"f\"] #zmieniamy indeksy\n",
        "print(l_pd)\n",
        "print(l_pd[\"b\"])#wyswietlamy po indeksie\n",
        "\n",
        "#pandas DataFrame() do wielokolumnowych typow danych cos jak excel\n",
        "a = [['Ania',24],['Michał',9],['Darek',40],['Ewa',43]]\n",
        "a_pd = pd.DataFrame(a)\n",
        "print(a_pd)\n",
        "a_pd.columns = [\"imie\", \"wiek\"] # dodajemy nazwy kolumn\n",
        "print(a_pd)\n",
        "\n",
        "#zamiana slownika na DataFrame\n",
        "\n",
        "s = {\"imie\" : ['Ania', 'Michał', 'Darek'], \"wiek\": [24, 9, 40]}\n",
        "s_df = pd.DataFrame(s)\n",
        "print(s_df)\n",
        "\n",
        "#wczytywanie pliku za pomocą pandas\n",
        "\n",
        "dane = pd.read_csv(\"/content/drive/MyDrive/Colab Notebooks/export_USDJPY_1440.csv\")\n",
        "print(dane[:5])\n",
        "print(dane[[\"Close\", \"OSMA\"]])#w pandas aby wyswietlic wiele kolumn musimy uzyc nawiasu podwojnego [[]] pomaga mu to odrozic od wczytania pojedynczej kolumny []\n",
        "print(dane.iloc[0:4, 0:2])#aby wyswietlic okreslony zakres kolumn i wierszy - [wiersze-1, kolumny-1]\n",
        "print(dane.loc[0:4, [\"Close\", \"OSMA\"]])#jesli chcemy wyswietlic zakres ale uzywajac rowniez nazw"
      ],
      "metadata": {
        "id": "8TdZlb_rYqmS"
      },
      "execution_count": null,
      "outputs": []
    },
    {
      "cell_type": "code",
      "source": [
        "#pandas podstawowe operacje\n",
        "import pandas as pd\n",
        "dane = pd.read_csv(\"http://analityk.edu.pl/wp-content/uploads/2020/01/Countries.csv\")\n",
        "dane_copy = dane[[\"Country\", \"Region\", \"Population\"]].copy() #tworzymy kopie ale zawierajaca wybrane kolumny\n",
        "print(dane_copy)\n",
        "dane_copy[\"Population\"] /= 1000000 #zmieniamy wyświetlanie populacji w calej kolumnie aby byla w mln\n",
        "dane_copy[\"Nowa_col\"] = 10 #wstawia nowa kolumne z wartosciami 10\n",
        "dane_copy[\"Nowa_col\"][1] =5 #wstawia wartosc 5 dla indeksu 1 w kolumnie\"Nowa_col\"\n",
        "dane_copy.head()#wyswietla 5pierwszych wierszy tabeli\n",
        "\n",
        "#funkcja iterrows - Zwraca ona index oraz zawartość aktualnego wiersza.\n",
        "#Dodatkowo tworzymy, nową kolumnę, oraz nadajemy jej wartość za pomoca funkcji loc, która umożliwia nam poruszanie się za pomocą numeru wiersza, oraz nazwy kolumny.\n",
        "\n",
        "for index, row in dane_copy.iterrows():\n",
        "    if row[\"Population\"]>100:\n",
        "        dane_copy.loc[index, \"Size\"] = \"big\"\n",
        "        print(row[\"Country\"], dane_copy.loc[index, \"Size\"])\n",
        "\n",
        "#kolejna metoda itertuples ale otrzymujemy krotke\n",
        "\n",
        "for row in dane_copy.itertuples():\n",
        "    if row.Population>200:\n",
        "        print(dane_copy[[\"Population\", \"Country\"]])\n",
        "\n"
      ],
      "metadata": {
        "id": "QPML-UBfZLpj"
      },
      "execution_count": null,
      "outputs": []
    },
    {
      "cell_type": "code",
      "source": [
        "#Filtrowanie DataFrame za pomocą maski\n",
        "import pandas as pd\n",
        "import numpy as np\n",
        "\n",
        "dane_f = pd.read_csv(\"http://analityk.edu.pl/wp-content/uploads/2020/01/Countries.csv\")\n",
        "print(dane_f.Population == 31056997) #wyswietli nam True w miejscu gdzie wartosc jest taka\n",
        "print(dane_f[\"Population\"]== 31056997) #to samo\n",
        "\n",
        "print(dane_f[dane_f.Population == 31056997]) #wyswietli nam tylko ten wiersz\n",
        "print(dane_f[dane_f[\"Population\"]== 31056997])#to samo\n",
        "\n",
        "print(dane_f[(dane_f[\"Population\"]<31056997)& (dane_f[\"Population\"]>21056997)]) #łączenie warunków przez &\n",
        "\n",
        "#Sumowanie, Grupowanie, oraz inne kalkulacje\n",
        "\n",
        "print(dane_f[\"Population\"].sum())\n",
        "print(dane_f[\"Population\"].min())\n",
        "print(dane_f[\"Population\"].max())\n",
        "print(dane_f[\"Population\"].mean())\n",
        "\n",
        "print(\"..............................\")\n",
        "#to samo tylko zgrupowane - dodajemy przed metodę groupby()\n",
        "print(dane_f.groupby(\"Region\")[\"Population\"].sum())\n",
        "print(dane_f.groupby(\"Region\")[\"Population\"].min())\n",
        "print(dane_f.groupby(\"Region\")[\"Population\"].max())\n",
        "print(dane_f.groupby(\"Region\")[\"Population\"].mean())\n",
        "\n",
        "# możemy to wszystko uzyskac z apomoca funkcji agregujacej \"agg\"\n",
        "print(dane_f.groupby(\"Region\")[\"Population\"].agg([max, min, sum, np.mean])) #w funkcji agg nie ma mean ale mozna ja dodac stosujac biblioteke numpy\n",
        "\n",
        "#mozemy przypisac inne nazwy kolumn niz sum, max min przekazujac do funksji slownik\n",
        "# as_index=False oznacza, ze kolumna Region jest osobna kolumną z danymi a nie indeksem jak powyzej, ulatwia to dalsza manipulacje danymi\n",
        "print(dane_f.groupby(\"Region\", as_index=False)[\"Population\"].agg({\"Suma\": sum, \"Max\": max, \"Minim\": min}))\n"
      ],
      "metadata": {
        "id": "PB7TZgM6kN4P"
      },
      "execution_count": null,
      "outputs": []
    },
    {
      "cell_type": "code",
      "source": [
        "#Łączenie DataFrame - SQL Join\n",
        "import pandas as pd\n",
        "\n",
        "a = [['Ania',24],['Michał',9],['Darek',40],['Ewa',43]]\n",
        "df_a = pd.DataFrame(a)\n",
        "df_a.columns = [\"Imie\", \"Wiek\"]\n",
        "print(df_a)\n",
        "\n",
        "b = {'Imię':['Ewa','Michał','Krzysiek','Kasia','Lucja'],'Miasto':['Warszawa','Kraków','Gdańsk','Poznań','Łódź']}\n",
        "df_b = pd.DataFrame(b)\n",
        "print(df_b)\n",
        "\n",
        "#łączenie join (czesc wspolna)"
      ],
      "metadata": {
        "colab": {
          "base_uri": "https://localhost:8080/"
        },
        "id": "tyBj5hPd8dIN",
        "outputId": "fd921fc4-ea71-4a06-cac8-f7172c38dbab"
      },
      "execution_count": null,
      "outputs": [
        {
          "output_type": "stream",
          "name": "stdout",
          "text": [
            "     Imie  Wiek\n",
            "0    Ania    24\n",
            "1  Michał     9\n",
            "2   Darek    40\n",
            "3     Ewa    43\n",
            "       Imię    Miasto\n",
            "0       Ewa  Warszawa\n",
            "1    Michał    Kraków\n",
            "2  Krzysiek    Gdańsk\n",
            "3     Kasia    Poznań\n",
            "4     Lucja      Łódź\n"
          ]
        }
      ]
    }
  ]
}